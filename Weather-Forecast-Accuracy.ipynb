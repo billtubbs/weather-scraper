{
 "cells": [
  {
   "cell_type": "code",
   "execution_count": 3,
   "metadata": {
    "collapsed": true
   },
   "outputs": [],
   "source": [
    "# Script to read in weather forecast data scraped\n",
    "# from http://weather.gc.ca \n",
    "# (See weather.py)\n",
    "\n",
    "import pandas as pd\n",
    "import numpy as np\n",
    "import matplotlib.pyplot as plt\n",
    "from datetime import datetime, timedelta\n",
    "from scipy import stats"
   ]
  },
  {
   "cell_type": "code",
   "execution_count": 4,
   "metadata": {
    "collapsed": false
   },
   "outputs": [],
   "source": [
    "# Load data from csv file into dataframe\n",
    "df = pd.read_csv('weather_data_ca.csv')"
   ]
  },
  {
   "cell_type": "code",
   "execution_count": 5,
   "metadata": {
    "collapsed": false
   },
   "outputs": [
    {
     "data": {
      "text/plain": [
       "Index([u'Datetime', u'Loc_code', u'Location', u'Date_string', u'Conditions',\n",
       "       u'Temperature', u'Pressure', u'Humidity', u'Wind', u'Visibility',\n",
       "       u'Forecast_high0', u'Forecast_high1', u'Forecast_high2',\n",
       "       u'Forecast_high3', u'Forecast_high4', u'Forecast_high5',\n",
       "       u'Forecast_low0', u'Forecast_low1', u'Forecast_low2', u'Forecast_low3',\n",
       "       u'Forecast_low4', u'Forecast_low5', u'Forecast_precip0',\n",
       "       u'Forecast_precip1', u'Forecast_precip2', u'Forecast_precip3',\n",
       "       u'Forecast_precip4', u'Forecast_precip5', u'Forecast_detailed0',\n",
       "       u'Forecast_detailed1', u'Forecast_detailed2', u'Forecast_detailed3',\n",
       "       u'Forecast_detailed4', u'Forecast_detailed5', u'Yesterday_max',\n",
       "       u'Yesterday_min', u'Yesterday_precip'],\n",
       "      dtype='object')"
      ]
     },
     "execution_count": 5,
     "metadata": {},
     "output_type": "execute_result"
    }
   ],
   "source": [
    "# Inspect column labels\n",
    "df.columns"
   ]
  },
  {
   "cell_type": "code",
   "execution_count": 6,
   "metadata": {
    "collapsed": false
   },
   "outputs": [
    {
     "name": "stdout",
     "output_type": "stream",
     "text": [
      "['sk-32' 'nb-29' 'nt-24' 'ab-50' 'on-100' 'on-118' 'bc-85' 'yt-16' 'nu-21'\n",
      " 'mb-38' 'bc-74' 'qc-133' 'ab-52' 'nl-24' 'ns-19' 'qc-147' 'bc-79'] 17\n"
     ]
    }
   ],
   "source": [
    "# How many location codes are there?\n",
    "loc_codes = df.Loc_code.unique()\n",
    "print loc_codes, len(loc_codes)"
   ]
  },
  {
   "cell_type": "code",
   "execution_count": 7,
   "metadata": {
    "collapsed": false
   },
   "outputs": [
    {
     "data": {
      "text/plain": [
       "{'ab-50': 'Edmonton Blatchford',\n",
       " 'ab-52': \"Calgary Int'l Airport\",\n",
       " 'bc-74': \"Vancouver Int'l Airport\",\n",
       " 'bc-79': 'Prince George Airport',\n",
       " 'bc-85': \"Victoria Int'l Airport\",\n",
       " 'mb-38': \"Winnipeg Richardson Int'l Airport\",\n",
       " 'nb-29': \"Fredericton Int'l Airport\",\n",
       " 'nl-24': \"St. John's Int'l Airport\",\n",
       " 'ns-19': \"Halifax Stanfield Int'l Airport\",\n",
       " 'nt-24': 'Yellowknife Airport',\n",
       " 'nu-21': 'Iqaluit Airport',\n",
       " 'on-100': 'Thunder Bay Airport',\n",
       " 'on-118': \"Ottawa Macdonald-Cartier Int'l Airport\",\n",
       " 'qc-133': \"Quebec Lesage Int'l Airport\",\n",
       " 'qc-147': \"Montral-Trudeau Int'l Airport\",\n",
       " 'sk-32': \"Regina Int'l Airport\",\n",
       " 'yt-16': 'Whitehorse Airport'}"
      ]
     },
     "execution_count": 7,
     "metadata": {},
     "output_type": "execute_result"
    }
   ],
   "source": [
    "# Show locations\n",
    "loc_names = dict(df[['Loc_code', 'Location']].drop_duplicates().values)\n",
    "loc_names"
   ]
  },
  {
   "cell_type": "code",
   "execution_count": 40,
   "metadata": {
    "collapsed": false
   },
   "outputs": [
    {
     "name": "stdout",
     "output_type": "stream",
     "text": [
      "Location selected: Regina Int'l Airport\n"
     ]
    }
   ],
   "source": [
    "loc_code = 'sk-32'\n",
    "print \"Location selected:\", loc_names[loc_code]\n",
    "\n",
    "# Create a dataframe of data from one location\n",
    "local_data = df[df.Loc_code==loc_code]"
   ]
  },
  {
   "cell_type": "code",
   "execution_count": 41,
   "metadata": {
    "collapsed": false
   },
   "outputs": [
    {
     "data": {
      "text/html": [
       "<div>\n",
       "<table border=\"1\" class=\"dataframe\">\n",
       "  <thead>\n",
       "    <tr style=\"text-align: right;\">\n",
       "      <th></th>\n",
       "      <th>Datetime</th>\n",
       "      <th>Loc_code</th>\n",
       "      <th>Location</th>\n",
       "      <th>Date_string</th>\n",
       "      <th>Conditions</th>\n",
       "      <th>Temperature</th>\n",
       "      <th>Pressure</th>\n",
       "      <th>Humidity</th>\n",
       "      <th>Wind</th>\n",
       "      <th>Visibility</th>\n",
       "      <th>...</th>\n",
       "      <th>Forecast_precip5</th>\n",
       "      <th>Forecast_detailed0</th>\n",
       "      <th>Forecast_detailed1</th>\n",
       "      <th>Forecast_detailed2</th>\n",
       "      <th>Forecast_detailed3</th>\n",
       "      <th>Forecast_detailed4</th>\n",
       "      <th>Forecast_detailed5</th>\n",
       "      <th>Yesterday_max</th>\n",
       "      <th>Yesterday_min</th>\n",
       "      <th>Yesterday_precip</th>\n",
       "    </tr>\n",
       "  </thead>\n",
       "  <tbody>\n",
       "    <tr>\n",
       "      <th>0</th>\n",
       "      <td>2015-08-04 09:01:05.437910</td>\n",
       "      <td>sk-32</td>\n",
       "      <td>Regina Int'l Airport</td>\n",
       "      <td>8:00 AM CST Tuesday 4 August 2015</td>\n",
       "      <td>Mostly Cloudy</td>\n",
       "      <td>17.5</td>\n",
       "      <td>101.6</td>\n",
       "      <td>62</td>\n",
       "      <td>ESE 21 km/h</td>\n",
       "      <td>24</td>\n",
       "      <td>...</td>\n",
       "      <td>0</td>\n",
       "      <td>A mix of sun and cloud. 30 percent chance of s...</td>\n",
       "      <td>A mix of sun and cloud. High 23.</td>\n",
       "      <td>A mix of sun and cloud with 40 percent chance ...</td>\n",
       "      <td>Sunny. High 25.</td>\n",
       "      <td>Sunny. High 27.</td>\n",
       "      <td>Sunny. High 28.</td>\n",
       "      <td>25.9</td>\n",
       "      <td>8.7</td>\n",
       "      <td>0.0</td>\n",
       "    </tr>\n",
       "    <tr>\n",
       "      <th>17</th>\n",
       "      <td>2015-08-04 15:01:07.889414</td>\n",
       "      <td>sk-32</td>\n",
       "      <td>Regina Int'l Airport</td>\n",
       "      <td>2:00 PM CST Tuesday 4 August 2015</td>\n",
       "      <td>Mostly Cloudy</td>\n",
       "      <td>27.0</td>\n",
       "      <td>101.4</td>\n",
       "      <td>38</td>\n",
       "      <td>S 23  gust 34 km/h</td>\n",
       "      <td>24</td>\n",
       "      <td>...</td>\n",
       "      <td>0</td>\n",
       "      <td>A mix of sun and cloud. 30 percent chance of s...</td>\n",
       "      <td>Cloudy. High 23.</td>\n",
       "      <td>A mix of sun and cloud with 40 percent chance ...</td>\n",
       "      <td>Sunny. High 25.</td>\n",
       "      <td>Sunny. High 27.</td>\n",
       "      <td>Sunny. High 28.</td>\n",
       "      <td>25.9</td>\n",
       "      <td>8.7</td>\n",
       "      <td>0.0</td>\n",
       "    </tr>\n",
       "    <tr>\n",
       "      <th>34</th>\n",
       "      <td>2015-08-04 21:01:08.593721</td>\n",
       "      <td>sk-32</td>\n",
       "      <td>Regina Int'l Airport</td>\n",
       "      <td>8:00 PM CST Tuesday 4 August 2015</td>\n",
       "      <td>Mostly Cloudy</td>\n",
       "      <td>23.3</td>\n",
       "      <td>101.2</td>\n",
       "      <td>49</td>\n",
       "      <td>SE 24  gust 35 km/h</td>\n",
       "      <td>24</td>\n",
       "      <td>...</td>\n",
       "      <td>0</td>\n",
       "      <td>Showers ending in the morning then a mix of su...</td>\n",
       "      <td>Cloudy with 60 percent chance of showers. High...</td>\n",
       "      <td>A mix of sun and cloud with 40 percent chance ...</td>\n",
       "      <td>Sunny. High 25.</td>\n",
       "      <td>Sunny. High 27.</td>\n",
       "      <td>Sunny. High 29.</td>\n",
       "      <td>25.9</td>\n",
       "      <td>8.7</td>\n",
       "      <td>0.0</td>\n",
       "    </tr>\n",
       "    <tr>\n",
       "      <th>51</th>\n",
       "      <td>2015-08-05 03:01:07.548682</td>\n",
       "      <td>sk-32</td>\n",
       "      <td>Regina Int'l Airport</td>\n",
       "      <td>2:00 AM CST Wednesday 5 August 2015</td>\n",
       "      <td>Light Rainshower</td>\n",
       "      <td>16.4</td>\n",
       "      <td>101.3</td>\n",
       "      <td>92</td>\n",
       "      <td>SE 19 km/h</td>\n",
       "      <td>24</td>\n",
       "      <td>...</td>\n",
       "      <td>0</td>\n",
       "      <td>Cloudy with 60 percent chance of showers. High...</td>\n",
       "      <td>A mix of sun and cloud with 40 percent chance ...</td>\n",
       "      <td>Sunny. High 25.</td>\n",
       "      <td>Sunny. High 27.</td>\n",
       "      <td>Sunny. High 29.</td>\n",
       "      <td>NaN</td>\n",
       "      <td>27.5</td>\n",
       "      <td>13.1</td>\n",
       "      <td>0.5</td>\n",
       "    </tr>\n",
       "    <tr>\n",
       "      <th>68</th>\n",
       "      <td>2015-08-05 09:01:05.799873</td>\n",
       "      <td>sk-32</td>\n",
       "      <td>Regina Int'l Airport</td>\n",
       "      <td>8:21 AM CST Wednesday 5 August 2015</td>\n",
       "      <td>Mostly Cloudy</td>\n",
       "      <td>15.6</td>\n",
       "      <td>101.3</td>\n",
       "      <td>94</td>\n",
       "      <td>SSE 23 km/h</td>\n",
       "      <td>24</td>\n",
       "      <td>...</td>\n",
       "      <td>0</td>\n",
       "      <td>Showers. Risk of a thunderstorm in the afterno...</td>\n",
       "      <td>Cloudy with 40 percent chance of showers. High...</td>\n",
       "      <td>Sunny. High 23.</td>\n",
       "      <td>Sunny. High 27.</td>\n",
       "      <td>Sunny. High 29.</td>\n",
       "      <td>Sunny. High 30.</td>\n",
       "      <td>27.5</td>\n",
       "      <td>13.1</td>\n",
       "      <td>0.5</td>\n",
       "    </tr>\n",
       "  </tbody>\n",
       "</table>\n",
       "<p>5 rows × 37 columns</p>\n",
       "</div>"
      ],
      "text/plain": [
       "                      Datetime Loc_code              Location  \\\n",
       "0   2015-08-04 09:01:05.437910    sk-32  Regina Int'l Airport   \n",
       "17  2015-08-04 15:01:07.889414    sk-32  Regina Int'l Airport   \n",
       "34  2015-08-04 21:01:08.593721    sk-32  Regina Int'l Airport   \n",
       "51  2015-08-05 03:01:07.548682    sk-32  Regina Int'l Airport   \n",
       "68  2015-08-05 09:01:05.799873    sk-32  Regina Int'l Airport   \n",
       "\n",
       "                            Date_string        Conditions  Temperature  \\\n",
       "0     8:00 AM CST Tuesday 4 August 2015     Mostly Cloudy         17.5   \n",
       "17    2:00 PM CST Tuesday 4 August 2015     Mostly Cloudy         27.0   \n",
       "34    8:00 PM CST Tuesday 4 August 2015     Mostly Cloudy         23.3   \n",
       "51  2:00 AM CST Wednesday 5 August 2015  Light Rainshower         16.4   \n",
       "68  8:21 AM CST Wednesday 5 August 2015     Mostly Cloudy         15.6   \n",
       "\n",
       "    Pressure  Humidity                 Wind  Visibility        ...         \\\n",
       "0      101.6        62          ESE 21 km/h          24        ...          \n",
       "17     101.4        38   S 23  gust 34 km/h          24        ...          \n",
       "34     101.2        49  SE 24  gust 35 km/h          24        ...          \n",
       "51     101.3        92           SE 19 km/h          24        ...          \n",
       "68     101.3        94          SSE 23 km/h          24        ...          \n",
       "\n",
       "    Forecast_precip5                                 Forecast_detailed0  \\\n",
       "0                  0  A mix of sun and cloud. 30 percent chance of s...   \n",
       "17                 0  A mix of sun and cloud. 30 percent chance of s...   \n",
       "34                 0  Showers ending in the morning then a mix of su...   \n",
       "51                 0  Cloudy with 60 percent chance of showers. High...   \n",
       "68                 0  Showers. Risk of a thunderstorm in the afterno...   \n",
       "\n",
       "                                   Forecast_detailed1  \\\n",
       "0                    A mix of sun and cloud. High 23.   \n",
       "17                                   Cloudy. High 23.   \n",
       "34  Cloudy with 60 percent chance of showers. High...   \n",
       "51  A mix of sun and cloud with 40 percent chance ...   \n",
       "68  Cloudy with 40 percent chance of showers. High...   \n",
       "\n",
       "                                   Forecast_detailed2  Forecast_detailed3  \\\n",
       "0   A mix of sun and cloud with 40 percent chance ...     Sunny. High 25.   \n",
       "17  A mix of sun and cloud with 40 percent chance ...     Sunny. High 25.   \n",
       "34  A mix of sun and cloud with 40 percent chance ...     Sunny. High 25.   \n",
       "51                                    Sunny. High 25.     Sunny. High 27.   \n",
       "68                                    Sunny. High 23.     Sunny. High 27.   \n",
       "\n",
       "    Forecast_detailed4  Forecast_detailed5  Yesterday_max  Yesterday_min  \\\n",
       "0      Sunny. High 27.     Sunny. High 28.           25.9            8.7   \n",
       "17     Sunny. High 27.     Sunny. High 28.           25.9            8.7   \n",
       "34     Sunny. High 27.     Sunny. High 29.           25.9            8.7   \n",
       "51     Sunny. High 29.                 NaN           27.5           13.1   \n",
       "68     Sunny. High 29.     Sunny. High 30.           27.5           13.1   \n",
       "\n",
       "    Yesterday_precip  \n",
       "0                0.0  \n",
       "17               0.0  \n",
       "34               0.0  \n",
       "51               0.5  \n",
       "68               0.5  \n",
       "\n",
       "[5 rows x 37 columns]"
      ]
     },
     "execution_count": 41,
     "metadata": {},
     "output_type": "execute_result"
    }
   ],
   "source": [
    "# Show first 5 rows of the dataframe\n",
    "local_data.head()"
   ]
  },
  {
   "cell_type": "code",
   "execution_count": 42,
   "metadata": {
    "collapsed": false
   },
   "outputs": [],
   "source": [
    "# Problem: The date is a string.\n",
    "# Set up a function to convert the date string \n",
    "# into a datetime object\n",
    "\n",
    "def datetime_from_str(s):\n",
    "    j = s.find('.')\n",
    "    return datetime.strptime(s[:j], '%Y-%m-%d %H:%M:%S')\n",
    "\n",
    "\n",
    "# Other functions to convert the datetime\n",
    "# to more useful parameters like year, month, \n",
    "# day etc.\n",
    "\n",
    "def hr(dt):\n",
    "    return dt.time().hour\n",
    "\n",
    "def dy(dt):\n",
    "    return dt.date().day\n",
    "\n",
    "def mt(dt):\n",
    "    return dt.date().month\n",
    "\n",
    "def yr(dt):\n",
    "    return dt.date().year\n",
    "\n",
    "def date(dt):\n",
    "    return dt.date()\n",
    "\n",
    "# Use the Pandas DataFrame's apply method to convert\n",
    "# the strings to a series of datetime objects\n",
    "datetimes = local_data['Datetime'].apply(datetime_from_str)\n"
   ]
  },
  {
   "cell_type": "code",
   "execution_count": 43,
   "metadata": {
    "collapsed": false
   },
   "outputs": [],
   "source": [
    "# Now insert extra columns for the additional parameters\n",
    "local_data.insert(local_data.columns.get_loc('Date_string')+1, \"Hour\", datetimes.apply(hr))\n",
    "local_data.insert(local_data.columns.get_loc('Date_string')+1, \"Day\", datetimes.apply(dy))\n",
    "local_data.insert(local_data.columns.get_loc('Date_string')+1, \"Month\", datetimes.apply(mt))\n",
    "local_data.insert(local_data.columns.get_loc('Date_string')+1, \"Year\", datetimes.apply(yr))\n",
    "local_data.insert(local_data.columns.get_loc('Datetime')+1, \"Date\", datetimes.apply(date))"
   ]
  },
  {
   "cell_type": "code",
   "execution_count": 44,
   "metadata": {
    "collapsed": false
   },
   "outputs": [
    {
     "data": {
      "text/html": [
       "<div>\n",
       "<table border=\"1\" class=\"dataframe\">\n",
       "  <thead>\n",
       "    <tr style=\"text-align: right;\">\n",
       "      <th></th>\n",
       "      <th>Datetime</th>\n",
       "      <th>Date</th>\n",
       "      <th>Loc_code</th>\n",
       "      <th>Location</th>\n",
       "      <th>Date_string</th>\n",
       "      <th>Year</th>\n",
       "      <th>Month</th>\n",
       "      <th>Day</th>\n",
       "      <th>Hour</th>\n",
       "      <th>Conditions</th>\n",
       "      <th>...</th>\n",
       "      <th>Forecast_precip5</th>\n",
       "      <th>Forecast_detailed0</th>\n",
       "      <th>Forecast_detailed1</th>\n",
       "      <th>Forecast_detailed2</th>\n",
       "      <th>Forecast_detailed3</th>\n",
       "      <th>Forecast_detailed4</th>\n",
       "      <th>Forecast_detailed5</th>\n",
       "      <th>Yesterday_max</th>\n",
       "      <th>Yesterday_min</th>\n",
       "      <th>Yesterday_precip</th>\n",
       "    </tr>\n",
       "  </thead>\n",
       "  <tbody>\n",
       "    <tr>\n",
       "      <th>0</th>\n",
       "      <td>2015-08-04 09:01:05.437910</td>\n",
       "      <td>2015-08-04</td>\n",
       "      <td>sk-32</td>\n",
       "      <td>Regina Int'l Airport</td>\n",
       "      <td>8:00 AM CST Tuesday 4 August 2015</td>\n",
       "      <td>2015</td>\n",
       "      <td>8</td>\n",
       "      <td>4</td>\n",
       "      <td>9</td>\n",
       "      <td>Mostly Cloudy</td>\n",
       "      <td>...</td>\n",
       "      <td>0</td>\n",
       "      <td>A mix of sun and cloud. 30 percent chance of s...</td>\n",
       "      <td>A mix of sun and cloud. High 23.</td>\n",
       "      <td>A mix of sun and cloud with 40 percent chance ...</td>\n",
       "      <td>Sunny. High 25.</td>\n",
       "      <td>Sunny. High 27.</td>\n",
       "      <td>Sunny. High 28.</td>\n",
       "      <td>25.9</td>\n",
       "      <td>8.7</td>\n",
       "      <td>0.0</td>\n",
       "    </tr>\n",
       "    <tr>\n",
       "      <th>17</th>\n",
       "      <td>2015-08-04 15:01:07.889414</td>\n",
       "      <td>2015-08-04</td>\n",
       "      <td>sk-32</td>\n",
       "      <td>Regina Int'l Airport</td>\n",
       "      <td>2:00 PM CST Tuesday 4 August 2015</td>\n",
       "      <td>2015</td>\n",
       "      <td>8</td>\n",
       "      <td>4</td>\n",
       "      <td>15</td>\n",
       "      <td>Mostly Cloudy</td>\n",
       "      <td>...</td>\n",
       "      <td>0</td>\n",
       "      <td>A mix of sun and cloud. 30 percent chance of s...</td>\n",
       "      <td>Cloudy. High 23.</td>\n",
       "      <td>A mix of sun and cloud with 40 percent chance ...</td>\n",
       "      <td>Sunny. High 25.</td>\n",
       "      <td>Sunny. High 27.</td>\n",
       "      <td>Sunny. High 28.</td>\n",
       "      <td>25.9</td>\n",
       "      <td>8.7</td>\n",
       "      <td>0.0</td>\n",
       "    </tr>\n",
       "    <tr>\n",
       "      <th>34</th>\n",
       "      <td>2015-08-04 21:01:08.593721</td>\n",
       "      <td>2015-08-04</td>\n",
       "      <td>sk-32</td>\n",
       "      <td>Regina Int'l Airport</td>\n",
       "      <td>8:00 PM CST Tuesday 4 August 2015</td>\n",
       "      <td>2015</td>\n",
       "      <td>8</td>\n",
       "      <td>4</td>\n",
       "      <td>21</td>\n",
       "      <td>Mostly Cloudy</td>\n",
       "      <td>...</td>\n",
       "      <td>0</td>\n",
       "      <td>Showers ending in the morning then a mix of su...</td>\n",
       "      <td>Cloudy with 60 percent chance of showers. High...</td>\n",
       "      <td>A mix of sun and cloud with 40 percent chance ...</td>\n",
       "      <td>Sunny. High 25.</td>\n",
       "      <td>Sunny. High 27.</td>\n",
       "      <td>Sunny. High 29.</td>\n",
       "      <td>25.9</td>\n",
       "      <td>8.7</td>\n",
       "      <td>0.0</td>\n",
       "    </tr>\n",
       "    <tr>\n",
       "      <th>51</th>\n",
       "      <td>2015-08-05 03:01:07.548682</td>\n",
       "      <td>2015-08-05</td>\n",
       "      <td>sk-32</td>\n",
       "      <td>Regina Int'l Airport</td>\n",
       "      <td>2:00 AM CST Wednesday 5 August 2015</td>\n",
       "      <td>2015</td>\n",
       "      <td>8</td>\n",
       "      <td>5</td>\n",
       "      <td>3</td>\n",
       "      <td>Light Rainshower</td>\n",
       "      <td>...</td>\n",
       "      <td>0</td>\n",
       "      <td>Cloudy with 60 percent chance of showers. High...</td>\n",
       "      <td>A mix of sun and cloud with 40 percent chance ...</td>\n",
       "      <td>Sunny. High 25.</td>\n",
       "      <td>Sunny. High 27.</td>\n",
       "      <td>Sunny. High 29.</td>\n",
       "      <td>NaN</td>\n",
       "      <td>27.5</td>\n",
       "      <td>13.1</td>\n",
       "      <td>0.5</td>\n",
       "    </tr>\n",
       "    <tr>\n",
       "      <th>68</th>\n",
       "      <td>2015-08-05 09:01:05.799873</td>\n",
       "      <td>2015-08-05</td>\n",
       "      <td>sk-32</td>\n",
       "      <td>Regina Int'l Airport</td>\n",
       "      <td>8:21 AM CST Wednesday 5 August 2015</td>\n",
       "      <td>2015</td>\n",
       "      <td>8</td>\n",
       "      <td>5</td>\n",
       "      <td>9</td>\n",
       "      <td>Mostly Cloudy</td>\n",
       "      <td>...</td>\n",
       "      <td>0</td>\n",
       "      <td>Showers. Risk of a thunderstorm in the afterno...</td>\n",
       "      <td>Cloudy with 40 percent chance of showers. High...</td>\n",
       "      <td>Sunny. High 23.</td>\n",
       "      <td>Sunny. High 27.</td>\n",
       "      <td>Sunny. High 29.</td>\n",
       "      <td>Sunny. High 30.</td>\n",
       "      <td>27.5</td>\n",
       "      <td>13.1</td>\n",
       "      <td>0.5</td>\n",
       "    </tr>\n",
       "  </tbody>\n",
       "</table>\n",
       "<p>5 rows × 42 columns</p>\n",
       "</div>"
      ],
      "text/plain": [
       "                      Datetime        Date Loc_code              Location  \\\n",
       "0   2015-08-04 09:01:05.437910  2015-08-04    sk-32  Regina Int'l Airport   \n",
       "17  2015-08-04 15:01:07.889414  2015-08-04    sk-32  Regina Int'l Airport   \n",
       "34  2015-08-04 21:01:08.593721  2015-08-04    sk-32  Regina Int'l Airport   \n",
       "51  2015-08-05 03:01:07.548682  2015-08-05    sk-32  Regina Int'l Airport   \n",
       "68  2015-08-05 09:01:05.799873  2015-08-05    sk-32  Regina Int'l Airport   \n",
       "\n",
       "                            Date_string  Year  Month  Day  Hour  \\\n",
       "0     8:00 AM CST Tuesday 4 August 2015  2015      8    4     9   \n",
       "17    2:00 PM CST Tuesday 4 August 2015  2015      8    4    15   \n",
       "34    8:00 PM CST Tuesday 4 August 2015  2015      8    4    21   \n",
       "51  2:00 AM CST Wednesday 5 August 2015  2015      8    5     3   \n",
       "68  8:21 AM CST Wednesday 5 August 2015  2015      8    5     9   \n",
       "\n",
       "          Conditions        ...         Forecast_precip5  \\\n",
       "0      Mostly Cloudy        ...                        0   \n",
       "17     Mostly Cloudy        ...                        0   \n",
       "34     Mostly Cloudy        ...                        0   \n",
       "51  Light Rainshower        ...                        0   \n",
       "68     Mostly Cloudy        ...                        0   \n",
       "\n",
       "                                   Forecast_detailed0  \\\n",
       "0   A mix of sun and cloud. 30 percent chance of s...   \n",
       "17  A mix of sun and cloud. 30 percent chance of s...   \n",
       "34  Showers ending in the morning then a mix of su...   \n",
       "51  Cloudy with 60 percent chance of showers. High...   \n",
       "68  Showers. Risk of a thunderstorm in the afterno...   \n",
       "\n",
       "                                   Forecast_detailed1  \\\n",
       "0                    A mix of sun and cloud. High 23.   \n",
       "17                                   Cloudy. High 23.   \n",
       "34  Cloudy with 60 percent chance of showers. High...   \n",
       "51  A mix of sun and cloud with 40 percent chance ...   \n",
       "68  Cloudy with 40 percent chance of showers. High...   \n",
       "\n",
       "                                   Forecast_detailed2  Forecast_detailed3  \\\n",
       "0   A mix of sun and cloud with 40 percent chance ...     Sunny. High 25.   \n",
       "17  A mix of sun and cloud with 40 percent chance ...     Sunny. High 25.   \n",
       "34  A mix of sun and cloud with 40 percent chance ...     Sunny. High 25.   \n",
       "51                                    Sunny. High 25.     Sunny. High 27.   \n",
       "68                                    Sunny. High 23.     Sunny. High 27.   \n",
       "\n",
       "    Forecast_detailed4  Forecast_detailed5  Yesterday_max  Yesterday_min  \\\n",
       "0      Sunny. High 27.     Sunny. High 28.           25.9            8.7   \n",
       "17     Sunny. High 27.     Sunny. High 28.           25.9            8.7   \n",
       "34     Sunny. High 27.     Sunny. High 29.           25.9            8.7   \n",
       "51     Sunny. High 29.                 NaN           27.5           13.1   \n",
       "68     Sunny. High 29.     Sunny. High 30.           27.5           13.1   \n",
       "\n",
       "    Yesterday_precip  \n",
       "0                0.0  \n",
       "17               0.0  \n",
       "34               0.0  \n",
       "51               0.5  \n",
       "68               0.5  \n",
       "\n",
       "[5 rows x 42 columns]"
      ]
     },
     "execution_count": 44,
     "metadata": {},
     "output_type": "execute_result"
    }
   ],
   "source": [
    "# Show first 5 rows of the dataframe\n",
    "local_data.head()"
   ]
  },
  {
   "cell_type": "code",
   "execution_count": 45,
   "metadata": {
    "collapsed": false
   },
   "outputs": [
    {
     "data": {
      "text/plain": [
       "count    116.000000\n",
       "mean       2.556897\n",
       "std        8.140080\n",
       "min      -15.000000\n",
       "25%       -2.550000\n",
       "50%        1.650000\n",
       "75%        8.825000\n",
       "max       18.700000\n",
       "Name: Temperature, dtype: float64"
      ]
     },
     "execution_count": 45,
     "metadata": {},
     "output_type": "execute_result"
    }
   ],
   "source": [
    "# Inspect the Temperature data\n",
    "local_data[local_data.Hour == 9]['Temperature'].describe()"
   ]
  },
  {
   "cell_type": "code",
   "execution_count": 46,
   "metadata": {
    "collapsed": false
   },
   "outputs": [
    {
     "data": {
      "text/plain": [
       "DatetimeIndex(['2015-08-03', '2015-08-04', '2015-08-05', '2015-08-06',\n",
       "               '2015-08-07', '2015-08-08', '2015-08-09', '2015-08-10',\n",
       "               '2015-08-11', '2015-08-12',\n",
       "               ...\n",
       "               '2015-12-10', '2015-12-11', '2015-12-12', '2015-12-13',\n",
       "               '2015-12-14', '2015-12-15', '2015-12-16', '2015-12-17',\n",
       "               '2015-12-18', '2015-12-19'],\n",
       "              dtype='datetime64[ns]', length=139, freq='D')"
      ]
     },
     "execution_count": 46,
     "metadata": {},
     "output_type": "execute_result"
    }
   ],
   "source": [
    "# Create a new indes of just the records that\n",
    "# were scraped at 9am each day\n",
    "dates = pd.Series(local_data[(local_data.Hour == 9)]['Date'].values)\n",
    "\n",
    "start_date = dates.min() - timedelta(1)\n",
    "end_date = dates.max() + timedelta(6)\n",
    "\n",
    "index = pd.date_range(start=start_date, end=end_date)\n",
    "index"
   ]
  },
  {
   "cell_type": "code",
   "execution_count": 47,
   "metadata": {
    "collapsed": false
   },
   "outputs": [
    {
     "data": {
      "text/html": [
       "<div>\n",
       "<table border=\"1\" class=\"dataframe\">\n",
       "  <thead>\n",
       "    <tr style=\"text-align: right;\">\n",
       "      <th></th>\n",
       "      <th>Actual</th>\n",
       "      <th>Fcast_dm1</th>\n",
       "      <th>Fcast_dm2</th>\n",
       "      <th>Fcast_dm3</th>\n",
       "      <th>Fcast_dm4</th>\n",
       "      <th>Fcast_dm5</th>\n",
       "      <th>Fcast_dm6</th>\n",
       "    </tr>\n",
       "  </thead>\n",
       "  <tbody>\n",
       "    <tr>\n",
       "      <th>2015-08-03</th>\n",
       "      <td>NaN</td>\n",
       "      <td>NaN</td>\n",
       "      <td>NaN</td>\n",
       "      <td>NaN</td>\n",
       "      <td>NaN</td>\n",
       "      <td>NaN</td>\n",
       "      <td>NaN</td>\n",
       "    </tr>\n",
       "    <tr>\n",
       "      <th>2015-08-04</th>\n",
       "      <td>NaN</td>\n",
       "      <td>NaN</td>\n",
       "      <td>NaN</td>\n",
       "      <td>NaN</td>\n",
       "      <td>NaN</td>\n",
       "      <td>NaN</td>\n",
       "      <td>NaN</td>\n",
       "    </tr>\n",
       "    <tr>\n",
       "      <th>2015-08-05</th>\n",
       "      <td>NaN</td>\n",
       "      <td>NaN</td>\n",
       "      <td>NaN</td>\n",
       "      <td>NaN</td>\n",
       "      <td>NaN</td>\n",
       "      <td>NaN</td>\n",
       "      <td>NaN</td>\n",
       "    </tr>\n",
       "    <tr>\n",
       "      <th>2015-08-06</th>\n",
       "      <td>NaN</td>\n",
       "      <td>NaN</td>\n",
       "      <td>NaN</td>\n",
       "      <td>NaN</td>\n",
       "      <td>NaN</td>\n",
       "      <td>NaN</td>\n",
       "      <td>NaN</td>\n",
       "    </tr>\n",
       "    <tr>\n",
       "      <th>2015-08-07</th>\n",
       "      <td>NaN</td>\n",
       "      <td>NaN</td>\n",
       "      <td>NaN</td>\n",
       "      <td>NaN</td>\n",
       "      <td>NaN</td>\n",
       "      <td>NaN</td>\n",
       "      <td>NaN</td>\n",
       "    </tr>\n",
       "  </tbody>\n",
       "</table>\n",
       "</div>"
      ],
      "text/plain": [
       "           Actual Fcast_dm1 Fcast_dm2 Fcast_dm3 Fcast_dm4 Fcast_dm5 Fcast_dm6\n",
       "2015-08-03    NaN       NaN       NaN       NaN       NaN       NaN       NaN\n",
       "2015-08-04    NaN       NaN       NaN       NaN       NaN       NaN       NaN\n",
       "2015-08-05    NaN       NaN       NaN       NaN       NaN       NaN       NaN\n",
       "2015-08-06    NaN       NaN       NaN       NaN       NaN       NaN       NaN\n",
       "2015-08-07    NaN       NaN       NaN       NaN       NaN       NaN       NaN"
      ]
     },
     "execution_count": 47,
     "metadata": {},
     "output_type": "execute_result"
    }
   ],
   "source": [
    "# Create a new (empty) dataframe to hold the \n",
    "# actual values and the previous forecasts of\n",
    "# that value in the same row\n",
    "\n",
    "dtype = [\n",
    "           (\"Date\", 'datetime64[ns]'), \\\n",
    "           (\"Actual\", 'f4'), \\\n",
    "           (\"Fcast_dm1\", 'f4'), \\\n",
    "           (\"Fcast_dm2\", 'f4')\n",
    "        ]\n",
    "\n",
    "columns=['Actual', 'Fcast_dm1', 'Fcast_dm2', \n",
    "            'Fcast_dm3', 'Fcast_dm4', 'Fcast_dm5', 'Fcast_dm6']\n",
    "\n",
    "fcasts = pd.DataFrame(index=index, columns=columns)\n",
    "\n",
    "fcasts.head()"
   ]
  },
  {
   "cell_type": "code",
   "execution_count": null,
   "metadata": {
    "collapsed": false
   },
   "outputs": [],
   "source": []
  },
  {
   "cell_type": "code",
   "execution_count": 48,
   "metadata": {
    "collapsed": false
   },
   "outputs": [],
   "source": [
    "# Go through all the records in local_data, and\n",
    "# fish out the previous day's actual high, and the \n",
    "# forecasts of future highs and then save them\n",
    "# in the appropriate rows of the new fcasts\n",
    "# DataFrame.  Sometimes extra empty rows need to be\n",
    "# added.\n",
    "\n",
    "blank_row = np.empty(7)\n",
    "blank_row.fill(np.nan)\n",
    "\n",
    "for i in local_data[(local_data.Hour == 9)].index:\n",
    "    \n",
    "    d = local_data.loc[i]['Date']\n",
    "    \n",
    "    dm = d - timedelta(1)\n",
    "    #if dm not in fcasts.index:\n",
    "    #    fcasts.loc[dm] = blank_row\n",
    "    fcasts.loc[dm]['Actual'] = local_data.loc[i]['Yesterday_max']\n",
    "    \n",
    "    dp = d + timedelta(1)\n",
    "    fcasts.loc[dp]['Fcast_dm1'] = local_data.loc[i]['Forecast_high0']\n",
    "    \n",
    "    dp = d + timedelta(2)\n",
    "    fcasts.loc[dp]['Fcast_dm2'] = local_data.loc[i]['Forecast_high1']\n",
    "    \n",
    "    dp = d + timedelta(3)\n",
    "    fcasts.loc[dp]['Fcast_dm3'] = local_data.loc[i]['Forecast_high2']    \n",
    "    \n",
    "    dp = d + timedelta(4)\n",
    "    fcasts.loc[dp]['Fcast_dm4'] = local_data.loc[i]['Forecast_high3']    \n",
    "\n",
    "    dp = d + timedelta(5)\n",
    "    fcasts.loc[dp]['Fcast_dm5'] = local_data.loc[i]['Forecast_high4']\n",
    "\n",
    "    dp = d + timedelta(6)\n",
    "    fcasts.loc[dp]['Fcast_dm6'] = local_data.loc[i]['Forecast_high5']\n"
   ]
  },
  {
   "cell_type": "code",
   "execution_count": null,
   "metadata": {
    "collapsed": true
   },
   "outputs": [],
   "source": []
  },
  {
   "cell_type": "code",
   "execution_count": 49,
   "metadata": {
    "collapsed": false
   },
   "outputs": [
    {
     "data": {
      "text/html": [
       "<div>\n",
       "<table border=\"1\" class=\"dataframe\">\n",
       "  <thead>\n",
       "    <tr style=\"text-align: right;\">\n",
       "      <th></th>\n",
       "      <th>Actual</th>\n",
       "      <th>Fcast_dm1</th>\n",
       "      <th>Fcast_dm2</th>\n",
       "      <th>Fcast_dm3</th>\n",
       "      <th>Fcast_dm4</th>\n",
       "      <th>Fcast_dm5</th>\n",
       "      <th>Fcast_dm6</th>\n",
       "    </tr>\n",
       "  </thead>\n",
       "  <tbody>\n",
       "    <tr>\n",
       "      <th>2015-08-03</th>\n",
       "      <td>25.9</td>\n",
       "      <td>NaN</td>\n",
       "      <td>NaN</td>\n",
       "      <td>NaN</td>\n",
       "      <td>NaN</td>\n",
       "      <td>NaN</td>\n",
       "      <td>NaN</td>\n",
       "    </tr>\n",
       "    <tr>\n",
       "      <th>2015-08-04</th>\n",
       "      <td>27.5</td>\n",
       "      <td>NaN</td>\n",
       "      <td>NaN</td>\n",
       "      <td>NaN</td>\n",
       "      <td>NaN</td>\n",
       "      <td>NaN</td>\n",
       "      <td>NaN</td>\n",
       "    </tr>\n",
       "    <tr>\n",
       "      <th>2015-08-05</th>\n",
       "      <td>27.1</td>\n",
       "      <td>27</td>\n",
       "      <td>NaN</td>\n",
       "      <td>NaN</td>\n",
       "      <td>NaN</td>\n",
       "      <td>NaN</td>\n",
       "      <td>NaN</td>\n",
       "    </tr>\n",
       "    <tr>\n",
       "      <th>2015-08-06</th>\n",
       "      <td>18.2</td>\n",
       "      <td>19</td>\n",
       "      <td>23</td>\n",
       "      <td>NaN</td>\n",
       "      <td>NaN</td>\n",
       "      <td>NaN</td>\n",
       "      <td>NaN</td>\n",
       "    </tr>\n",
       "    <tr>\n",
       "      <th>2015-08-07</th>\n",
       "      <td>19.8</td>\n",
       "      <td>19</td>\n",
       "      <td>22</td>\n",
       "      <td>24</td>\n",
       "      <td>NaN</td>\n",
       "      <td>NaN</td>\n",
       "      <td>NaN</td>\n",
       "    </tr>\n",
       "  </tbody>\n",
       "</table>\n",
       "</div>"
      ],
      "text/plain": [
       "           Actual Fcast_dm1 Fcast_dm2 Fcast_dm3 Fcast_dm4 Fcast_dm5 Fcast_dm6\n",
       "2015-08-03   25.9       NaN       NaN       NaN       NaN       NaN       NaN\n",
       "2015-08-04   27.5       NaN       NaN       NaN       NaN       NaN       NaN\n",
       "2015-08-05   27.1        27       NaN       NaN       NaN       NaN       NaN\n",
       "2015-08-06   18.2        19        23       NaN       NaN       NaN       NaN\n",
       "2015-08-07   19.8        19        22        24       NaN       NaN       NaN"
      ]
     },
     "execution_count": 49,
     "metadata": {},
     "output_type": "execute_result"
    }
   ],
   "source": [
    "fcasts.head()"
   ]
  },
  {
   "cell_type": "code",
   "execution_count": 50,
   "metadata": {
    "collapsed": false
   },
   "outputs": [
    {
     "data": {
      "text/plain": [
       "2015-08-03    1\n",
       "2015-08-04    1\n",
       "2015-08-05    2\n",
       "2015-08-06    3\n",
       "2015-08-07    4\n",
       "2015-08-08    4\n",
       "2015-08-09    5\n",
       "2015-08-10    5\n",
       "2015-08-11    4\n",
       "2015-08-12    3\n",
       "2015-08-13    2\n",
       "2015-08-14    1\n",
       "2015-08-15    0\n",
       "2015-08-16    0\n",
       "2015-08-17    0\n",
       "2015-08-18    0\n",
       "2015-08-19    0\n",
       "2015-08-20    0\n",
       "2015-08-21    0\n",
       "2015-08-22    1\n",
       "2015-08-23    1\n",
       "2015-08-24    1\n",
       "2015-08-25    2\n",
       "2015-08-26    3\n",
       "2015-08-27    3\n",
       "2015-08-28    4\n",
       "2015-08-29    5\n",
       "2015-08-30    5\n",
       "2015-08-31    5\n",
       "2015-09-01    6\n",
       "             ..\n",
       "2015-11-20    7\n",
       "2015-11-21    7\n",
       "2015-11-22    7\n",
       "2015-11-23    7\n",
       "2015-11-24    7\n",
       "2015-11-25    7\n",
       "2015-11-26    7\n",
       "2015-11-27    7\n",
       "2015-11-28    7\n",
       "2015-11-29    7\n",
       "2015-11-30    7\n",
       "2015-12-01    7\n",
       "2015-12-02    7\n",
       "2015-12-03    7\n",
       "2015-12-04    7\n",
       "2015-12-05    7\n",
       "2015-12-06    7\n",
       "2015-12-07    7\n",
       "2015-12-08    7\n",
       "2015-12-09    7\n",
       "2015-12-10    7\n",
       "2015-12-11    7\n",
       "2015-12-12    7\n",
       "2015-12-13    6\n",
       "2015-12-14    6\n",
       "2015-12-15    5\n",
       "2015-12-16    4\n",
       "2015-12-17    3\n",
       "2015-12-18    2\n",
       "2015-12-19    1\n",
       "Freq: D, dtype: int64"
      ]
     },
     "execution_count": 50,
     "metadata": {},
     "output_type": "execute_result"
    }
   ],
   "source": [
    "# Use the notnull() method to find the records in the\n",
    "# dataframe where all the data is complete\n",
    "fcasts.notnull().sum(axis=1)"
   ]
  },
  {
   "cell_type": "code",
   "execution_count": 51,
   "metadata": {
    "collapsed": false
   },
   "outputs": [
    {
     "data": {
      "text/html": [
       "<div>\n",
       "<table border=\"1\" class=\"dataframe\">\n",
       "  <thead>\n",
       "    <tr style=\"text-align: right;\">\n",
       "      <th></th>\n",
       "      <th>Actual</th>\n",
       "      <th>Fcast_dm1</th>\n",
       "      <th>Fcast_dm2</th>\n",
       "      <th>Fcast_dm3</th>\n",
       "      <th>Fcast_dm4</th>\n",
       "      <th>Fcast_dm5</th>\n",
       "      <th>Fcast_dm6</th>\n",
       "    </tr>\n",
       "  </thead>\n",
       "  <tbody>\n",
       "    <tr>\n",
       "      <th>2015-08-03</th>\n",
       "      <td>25.9</td>\n",
       "      <td>NaN</td>\n",
       "      <td>NaN</td>\n",
       "      <td>NaN</td>\n",
       "      <td>NaN</td>\n",
       "      <td>NaN</td>\n",
       "      <td>NaN</td>\n",
       "    </tr>\n",
       "    <tr>\n",
       "      <th>2015-08-04</th>\n",
       "      <td>27.5</td>\n",
       "      <td>NaN</td>\n",
       "      <td>NaN</td>\n",
       "      <td>NaN</td>\n",
       "      <td>NaN</td>\n",
       "      <td>NaN</td>\n",
       "      <td>NaN</td>\n",
       "    </tr>\n",
       "    <tr>\n",
       "      <th>2015-08-05</th>\n",
       "      <td>27.1</td>\n",
       "      <td>27</td>\n",
       "      <td>NaN</td>\n",
       "      <td>NaN</td>\n",
       "      <td>NaN</td>\n",
       "      <td>NaN</td>\n",
       "      <td>NaN</td>\n",
       "    </tr>\n",
       "    <tr>\n",
       "      <th>2015-08-06</th>\n",
       "      <td>18.2</td>\n",
       "      <td>19</td>\n",
       "      <td>23</td>\n",
       "      <td>NaN</td>\n",
       "      <td>NaN</td>\n",
       "      <td>NaN</td>\n",
       "      <td>NaN</td>\n",
       "    </tr>\n",
       "    <tr>\n",
       "      <th>2015-08-07</th>\n",
       "      <td>19.8</td>\n",
       "      <td>19</td>\n",
       "      <td>22</td>\n",
       "      <td>24</td>\n",
       "      <td>NaN</td>\n",
       "      <td>NaN</td>\n",
       "      <td>NaN</td>\n",
       "    </tr>\n",
       "    <tr>\n",
       "      <th>2015-08-22</th>\n",
       "      <td>15.4</td>\n",
       "      <td>NaN</td>\n",
       "      <td>NaN</td>\n",
       "      <td>NaN</td>\n",
       "      <td>NaN</td>\n",
       "      <td>NaN</td>\n",
       "      <td>NaN</td>\n",
       "    </tr>\n",
       "    <tr>\n",
       "      <th>2015-08-23</th>\n",
       "      <td>17.6</td>\n",
       "      <td>NaN</td>\n",
       "      <td>NaN</td>\n",
       "      <td>NaN</td>\n",
       "      <td>NaN</td>\n",
       "      <td>NaN</td>\n",
       "      <td>NaN</td>\n",
       "    </tr>\n",
       "    <tr>\n",
       "      <th>2015-08-26</th>\n",
       "      <td>25.9</td>\n",
       "      <td>NaN</td>\n",
       "      <td>27</td>\n",
       "      <td>28</td>\n",
       "      <td>NaN</td>\n",
       "      <td>NaN</td>\n",
       "      <td>NaN</td>\n",
       "    </tr>\n",
       "    <tr>\n",
       "      <th>2015-08-27</th>\n",
       "      <td>28.2</td>\n",
       "      <td>NaN</td>\n",
       "      <td>NaN</td>\n",
       "      <td>28</td>\n",
       "      <td>26</td>\n",
       "      <td>NaN</td>\n",
       "      <td>NaN</td>\n",
       "    </tr>\n",
       "    <tr>\n",
       "      <th>2015-08-28</th>\n",
       "      <td>27.4</td>\n",
       "      <td>28</td>\n",
       "      <td>NaN</td>\n",
       "      <td>NaN</td>\n",
       "      <td>29</td>\n",
       "      <td>26</td>\n",
       "      <td>NaN</td>\n",
       "    </tr>\n",
       "  </tbody>\n",
       "</table>\n",
       "</div>"
      ],
      "text/plain": [
       "           Actual Fcast_dm1 Fcast_dm2 Fcast_dm3 Fcast_dm4 Fcast_dm5 Fcast_dm6\n",
       "2015-08-03   25.9       NaN       NaN       NaN       NaN       NaN       NaN\n",
       "2015-08-04   27.5       NaN       NaN       NaN       NaN       NaN       NaN\n",
       "2015-08-05   27.1        27       NaN       NaN       NaN       NaN       NaN\n",
       "2015-08-06   18.2        19        23       NaN       NaN       NaN       NaN\n",
       "2015-08-07   19.8        19        22        24       NaN       NaN       NaN\n",
       "2015-08-22   15.4       NaN       NaN       NaN       NaN       NaN       NaN\n",
       "2015-08-23   17.6       NaN       NaN       NaN       NaN       NaN       NaN\n",
       "2015-08-26   25.9       NaN        27        28       NaN       NaN       NaN\n",
       "2015-08-27   28.2       NaN       NaN        28        26       NaN       NaN\n",
       "2015-08-28   27.4        28       NaN       NaN        29        26       NaN"
      ]
     },
     "execution_count": 51,
     "metadata": {},
     "output_type": "execute_result"
    }
   ],
   "source": [
    "# Take only the records where there is an actual\n",
    "fcasts = fcasts[fcasts.Actual.notnull()].sort_index()\n",
    "fcasts[0:10]"
   ]
  },
  {
   "cell_type": "code",
   "execution_count": 52,
   "metadata": {
    "collapsed": false
   },
   "outputs": [
    {
     "data": {
      "text/plain": [
       "(-10.300000000000001, 34.399999999999999)"
      ]
     },
     "execution_count": 52,
     "metadata": {},
     "output_type": "execute_result"
    }
   ],
   "source": [
    "# Range of actual highs\n",
    "fcasts['Actual'].min(), fcasts['Actual'].max()"
   ]
  },
  {
   "cell_type": "code",
   "execution_count": 53,
   "metadata": {
    "collapsed": false
   },
   "outputs": [
    {
     "data": {
      "text/html": [
       "<div>\n",
       "<table border=\"1\" class=\"dataframe\">\n",
       "  <thead>\n",
       "    <tr style=\"text-align: right;\">\n",
       "      <th></th>\n",
       "      <th>Actual</th>\n",
       "      <th>Fcast_dm1</th>\n",
       "      <th>Fcast_dm2</th>\n",
       "      <th>Fcast_dm3</th>\n",
       "      <th>Fcast_dm4</th>\n",
       "      <th>Fcast_dm5</th>\n",
       "      <th>Fcast_dm6</th>\n",
       "    </tr>\n",
       "  </thead>\n",
       "  <tbody>\n",
       "    <tr>\n",
       "      <th>2015-09-02</th>\n",
       "      <td>34.4</td>\n",
       "      <td>30</td>\n",
       "      <td>28</td>\n",
       "      <td>24</td>\n",
       "      <td>24</td>\n",
       "      <td>24</td>\n",
       "      <td>23</td>\n",
       "    </tr>\n",
       "  </tbody>\n",
       "</table>\n",
       "</div>"
      ],
      "text/plain": [
       "           Actual Fcast_dm1 Fcast_dm2 Fcast_dm3 Fcast_dm4 Fcast_dm5 Fcast_dm6\n",
       "2015-09-02   34.4        30        28        24        24        24        23"
      ]
     },
     "execution_count": 53,
     "metadata": {},
     "output_type": "execute_result"
    }
   ],
   "source": [
    "fcasts[fcasts.Actual == fcasts['Actual'].max()]"
   ]
  },
  {
   "cell_type": "code",
   "execution_count": 54,
   "metadata": {
    "collapsed": false
   },
   "outputs": [
    {
     "data": {
      "text/plain": [
       "(-16.0, 26.0)"
      ]
     },
     "execution_count": 54,
     "metadata": {},
     "output_type": "execute_result"
    }
   ],
   "source": [
    "# Range of 6-day previous forecast highs\n",
    "fcasts['Fcast_dm6'].min(), fcasts['Fcast_dm6'].max()"
   ]
  },
  {
   "cell_type": "code",
   "execution_count": 55,
   "metadata": {
    "collapsed": true
   },
   "outputs": [],
   "source": [
    "# Prepare x and y data for plotting\n",
    "x = fcasts['Actual']\n",
    "y1 = fcasts['Fcast_dm1']"
   ]
  },
  {
   "cell_type": "code",
   "execution_count": 56,
   "metadata": {
    "collapsed": false
   },
   "outputs": [
    {
     "data": {
      "text/plain": [
       "2015-08-03    25.9\n",
       "2015-08-04    27.5\n",
       "2015-08-05    27.1\n",
       "2015-08-06    18.2\n",
       "2015-08-07    19.8\n",
       "Name: Actual, dtype: object"
      ]
     },
     "execution_count": 56,
     "metadata": {},
     "output_type": "execute_result"
    }
   ],
   "source": [
    "x.head()"
   ]
  },
  {
   "cell_type": "code",
   "execution_count": 57,
   "metadata": {
    "collapsed": false
   },
   "outputs": [
    {
     "data": {
      "text/plain": [
       "(-10, 35)"
      ]
     },
     "execution_count": 57,
     "metadata": {},
     "output_type": "execute_result"
    }
   ],
   "source": [
    "xmin = int(x.min()/5)*5\n",
    "xmax = int(x.max()/5 + 1)*5\n",
    "xmin, xmax"
   ]
  },
  {
   "cell_type": "code",
   "execution_count": 58,
   "metadata": {
    "collapsed": false
   },
   "outputs": [
    {
     "data": {
      "text/plain": [
       "(-10, 35)"
      ]
     },
     "execution_count": 58,
     "metadata": {},
     "output_type": "execute_result"
    }
   ],
   "source": [
    "ymin = int(y1.min()/5)*5\n",
    "ymax = int(y1.max()/5 + 1)*5\n",
    "ymin, ymax"
   ]
  },
  {
   "cell_type": "code",
   "execution_count": 59,
   "metadata": {
    "collapsed": false
   },
   "outputs": [
    {
     "data": {
      "text/plain": [
       "(-10, 35)"
      ]
     },
     "execution_count": 59,
     "metadata": {},
     "output_type": "execute_result"
    }
   ],
   "source": [
    "lmin, lmax = min(xmin, ymin), max(xmax, ymax)\n",
    "lmin, lmax"
   ]
  },
  {
   "cell_type": "code",
   "execution_count": 60,
   "metadata": {
    "collapsed": false
   },
   "outputs": [
    {
     "data": {
      "image/png": "[encoded data removed]",
      "text/plain": [
       "<matplotlib.figure.Figure at 0x10eaa5510>"
      ]
     },
     "metadata": {},
     "output_type": "display_data"
    }
   ],
   "source": [
    "# Select the option of inline plots\n",
    "%matplotlib inline\n",
    "\n",
    "plt.title(\"Forecast Accuracy - Tomorrow's high at 9am\")\n",
    "\n",
    "plt.scatter(x, y1)\n",
    "\n",
    "# Add the straight line through the\n",
    "# origin (y=x)\n",
    "t = np.arange(lmin, lmax, 5)\n",
    "plt.plot(t, t)\n",
    "\n",
    "plt.xlabel('actual temperature (deg C)')\n",
    "plt.ylabel('forecasted temperature (deg C)')\n",
    "\n",
    "plt.show()"
   ]
  },
  {
   "cell_type": "code",
   "execution_count": 61,
   "metadata": {
    "collapsed": true
   },
   "outputs": [],
   "source": [
    "# Create the y data for the other \n",
    "# forecasts\n",
    "y2 = fcasts['Fcast_dm2']\n",
    "y3 = fcasts['Fcast_dm3']\n",
    "y4 = fcasts['Fcast_dm4']\n",
    "y5 = fcasts['Fcast_dm5']\n",
    "y6 = fcasts['Fcast_dm6']"
   ]
  },
  {
   "cell_type": "code",
   "execution_count": 62,
   "metadata": {
    "collapsed": false
   },
   "outputs": [
    {
     "data": {
      "text/plain": [
       "(-15, 25)"
      ]
     },
     "execution_count": 62,
     "metadata": {},
     "output_type": "execute_result"
    }
   ],
   "source": [
    "y_all = np.concatenate((y1.values, y2.values, y3.values, y4.values, y5.values, y6.values), axis=0)\n",
    "ymin = int(y_all.min()/5)*5\n",
    "ymax = int(y_all.max()/5 + 1)*5\n",
    "ymin, ymax"
   ]
  },
  {
   "cell_type": "code",
   "execution_count": 63,
   "metadata": {
    "collapsed": false
   },
   "outputs": [],
   "source": [
    "ymin = int(y1.min()/5)*5\n",
    "ymax = int(y1.max()/5)*5"
   ]
  },
  {
   "cell_type": "code",
   "execution_count": 64,
   "metadata": {
    "collapsed": false
   },
   "outputs": [
    {
     "data": {
      "text/plain": [
       "(-10, 35)"
      ]
     },
     "execution_count": 64,
     "metadata": {},
     "output_type": "execute_result"
    }
   ],
   "source": [
    "lmin, lmax = min(xmin, ymin), max(xmax, ymax)\n",
    "lmin, lmax"
   ]
  },
  {
   "cell_type": "code",
   "execution_count": 65,
   "metadata": {
    "collapsed": false
   },
   "outputs": [
    {
     "data": {
      "image/png": "[encoded data removed]",
      "text/plain": [
       "<matplotlib.figure.Figure at 0x10f882750>"
      ]
     },
     "metadata": {},
     "output_type": "display_data"
    }
   ],
   "source": [
    "# Multiple plots in one figure\n",
    "\n",
    "details = loc_names[loc_code] + \", \" + str(start_date) + \" to \" + str(end_date - timedelta(7))\n",
    "\n",
    "fig = plt.figure(1)\n",
    "fig.set_size_inches(10, 10)\n",
    "plt.suptitle('Weather Forecast Accuracy\\n' + details)\n",
    "\n",
    "xlabel = 'actual temperature (deg C)'\n",
    "ylabel = 'forecasted temperature (deg C)'\n",
    "\n",
    "#-----------------------\n",
    "\n",
    "fig.add_subplot(221)\n",
    "\n",
    "plt.title(\"Next day's high forecasted at 9am\")\n",
    "\n",
    "plt.scatter(x, y1)\n",
    "\n",
    "t = np.arange(lmin, lmax, 5)\n",
    "plt.plot(t, t)\n",
    "\n",
    "plt.xlabel(xlabel)\n",
    "plt.ylabel(ylabel)\n",
    "\n",
    "\n",
    "#-----------------------\n",
    "\n",
    "fig.add_subplot(222)\n",
    "\n",
    "plt.title(\"High in 2 days forecasted at 9am\")\n",
    "\n",
    "plt.scatter(x, y2)\n",
    "\n",
    "t = np.arange(lmin, lmax, 5)\n",
    "plt.plot(t, t)\n",
    "\n",
    "plt.xlabel(xlabel)\n",
    "plt.ylabel(ylabel)\n",
    "\n",
    "\n",
    "\n",
    "#-----------------------\n",
    "\n",
    "fig.add_subplot(223)\n",
    "\n",
    "plt.title(\"High in 4 days forecasted at 9am\")\n",
    "\n",
    "plt.scatter(x, y4)\n",
    "\n",
    "t = np.arange(lmin, lmax, 5)\n",
    "plt.plot(t, t)\n",
    "\n",
    "plt.xlabel(xlabel)\n",
    "plt.ylabel(ylabel)\n",
    "\n",
    "\n",
    "#-----------------------\n",
    "\n",
    "fig.add_subplot(224)\n",
    "\n",
    "plt.title(\"High in 6 days forecasted at 9am\")\n",
    "\n",
    "plt.scatter(x, y6)\n",
    "\n",
    "t = np.arange(lmin, lmax, 5)\n",
    "plt.plot(t, t)\n",
    "\n",
    "plt.xlabel(xlabel)\n",
    "plt.ylabel(ylabel)\n",
    "\n",
    "\n",
    "plt.show()"
   ]
  },
  {
   "cell_type": "code",
   "execution_count": 66,
   "metadata": {
    "collapsed": false
   },
   "outputs": [],
   "source": [
    "# Save figure to pdf file\n",
    "\n",
    "filename = 'Weather forecast accuracy_' + loc_code + '.pdf'\n",
    "fig.savefig(filename)\n"
   ]
  },
  {
   "cell_type": "code",
   "execution_count": 67,
   "metadata": {
    "collapsed": false
   },
   "outputs": [
    {
     "data": {
      "text/html": [
       "<div>\n",
       "<table border=\"1\" class=\"dataframe\">\n",
       "  <thead>\n",
       "    <tr style=\"text-align: right;\">\n",
       "      <th></th>\n",
       "      <th>Actual</th>\n",
       "      <th>Fcast_dm1</th>\n",
       "      <th>Fcast_dm2</th>\n",
       "      <th>Fcast_dm3</th>\n",
       "      <th>Fcast_dm4</th>\n",
       "      <th>Fcast_dm5</th>\n",
       "      <th>Fcast_dm6</th>\n",
       "      <th>Var_dm1</th>\n",
       "      <th>Var_dm2</th>\n",
       "      <th>Var_dm3</th>\n",
       "      <th>Var_dm4</th>\n",
       "      <th>Var_dm5</th>\n",
       "      <th>Var_dm6</th>\n",
       "    </tr>\n",
       "  </thead>\n",
       "  <tbody>\n",
       "    <tr>\n",
       "      <th>2015-08-03</th>\n",
       "      <td>25.9</td>\n",
       "      <td>NaN</td>\n",
       "      <td>NaN</td>\n",
       "      <td>NaN</td>\n",
       "      <td>NaN</td>\n",
       "      <td>NaN</td>\n",
       "      <td>NaN</td>\n",
       "      <td>NaN</td>\n",
       "      <td>NaN</td>\n",
       "      <td>NaN</td>\n",
       "      <td>NaN</td>\n",
       "      <td>NaN</td>\n",
       "      <td>NaN</td>\n",
       "    </tr>\n",
       "    <tr>\n",
       "      <th>2015-08-04</th>\n",
       "      <td>27.5</td>\n",
       "      <td>NaN</td>\n",
       "      <td>NaN</td>\n",
       "      <td>NaN</td>\n",
       "      <td>NaN</td>\n",
       "      <td>NaN</td>\n",
       "      <td>NaN</td>\n",
       "      <td>NaN</td>\n",
       "      <td>NaN</td>\n",
       "      <td>NaN</td>\n",
       "      <td>NaN</td>\n",
       "      <td>NaN</td>\n",
       "      <td>NaN</td>\n",
       "    </tr>\n",
       "    <tr>\n",
       "      <th>2015-08-05</th>\n",
       "      <td>27.1</td>\n",
       "      <td>27</td>\n",
       "      <td>NaN</td>\n",
       "      <td>NaN</td>\n",
       "      <td>NaN</td>\n",
       "      <td>NaN</td>\n",
       "      <td>NaN</td>\n",
       "      <td>-0.1</td>\n",
       "      <td>NaN</td>\n",
       "      <td>NaN</td>\n",
       "      <td>NaN</td>\n",
       "      <td>NaN</td>\n",
       "      <td>NaN</td>\n",
       "    </tr>\n",
       "    <tr>\n",
       "      <th>2015-08-06</th>\n",
       "      <td>18.2</td>\n",
       "      <td>19</td>\n",
       "      <td>23</td>\n",
       "      <td>NaN</td>\n",
       "      <td>NaN</td>\n",
       "      <td>NaN</td>\n",
       "      <td>NaN</td>\n",
       "      <td>0.8</td>\n",
       "      <td>4.8</td>\n",
       "      <td>NaN</td>\n",
       "      <td>NaN</td>\n",
       "      <td>NaN</td>\n",
       "      <td>NaN</td>\n",
       "    </tr>\n",
       "    <tr>\n",
       "      <th>2015-08-07</th>\n",
       "      <td>19.8</td>\n",
       "      <td>19</td>\n",
       "      <td>22</td>\n",
       "      <td>24</td>\n",
       "      <td>NaN</td>\n",
       "      <td>NaN</td>\n",
       "      <td>NaN</td>\n",
       "      <td>-0.8</td>\n",
       "      <td>2.2</td>\n",
       "      <td>4.2</td>\n",
       "      <td>NaN</td>\n",
       "      <td>NaN</td>\n",
       "      <td>NaN</td>\n",
       "    </tr>\n",
       "  </tbody>\n",
       "</table>\n",
       "</div>"
      ],
      "text/plain": [
       "           Actual Fcast_dm1 Fcast_dm2 Fcast_dm3 Fcast_dm4 Fcast_dm5 Fcast_dm6  \\\n",
       "2015-08-03   25.9       NaN       NaN       NaN       NaN       NaN       NaN   \n",
       "2015-08-04   27.5       NaN       NaN       NaN       NaN       NaN       NaN   \n",
       "2015-08-05   27.1        27       NaN       NaN       NaN       NaN       NaN   \n",
       "2015-08-06   18.2        19        23       NaN       NaN       NaN       NaN   \n",
       "2015-08-07   19.8        19        22        24       NaN       NaN       NaN   \n",
       "\n",
       "           Var_dm1 Var_dm2 Var_dm3 Var_dm4 Var_dm5 Var_dm6  \n",
       "2015-08-03     NaN     NaN     NaN     NaN     NaN     NaN  \n",
       "2015-08-04     NaN     NaN     NaN     NaN     NaN     NaN  \n",
       "2015-08-05    -0.1     NaN     NaN     NaN     NaN     NaN  \n",
       "2015-08-06     0.8     4.8     NaN     NaN     NaN     NaN  \n",
       "2015-08-07    -0.8     2.2     4.2     NaN     NaN     NaN  "
      ]
     },
     "execution_count": 67,
     "metadata": {},
     "output_type": "execute_result"
    }
   ],
   "source": [
    "# Now let's calculate the variances between the\n",
    "# forecasts and the actuals\n",
    "\n",
    "fcasts['Var_dm1'] = fcasts.Fcast_dm1 - fcasts.Actual\n",
    "fcasts['Var_dm2'] = fcasts.Fcast_dm2 - fcasts.Actual\n",
    "fcasts['Var_dm3'] = fcasts.Fcast_dm3 - fcasts.Actual\n",
    "fcasts['Var_dm4'] = fcasts.Fcast_dm4 - fcasts.Actual\n",
    "fcasts['Var_dm5'] = fcasts.Fcast_dm5 - fcasts.Actual\n",
    "fcasts['Var_dm6'] = fcasts.Fcast_dm6 - fcasts.Actual\n",
    "\n",
    "fcasts.head()"
   ]
  },
  {
   "cell_type": "code",
   "execution_count": 36,
   "metadata": {
    "collapsed": false
   },
   "outputs": [
    {
     "data": {
      "text/html": [
       "<div>\n",
       "<table border=\"1\" class=\"dataframe\">\n",
       "  <thead>\n",
       "    <tr style=\"text-align: right;\">\n",
       "      <th></th>\n",
       "      <th>Mean</th>\n",
       "      <th>StdDev</th>\n",
       "    </tr>\n",
       "  </thead>\n",
       "  <tbody>\n",
       "    <tr>\n",
       "      <th>1</th>\n",
       "      <td>-1.063636</td>\n",
       "      <td>2.083078</td>\n",
       "    </tr>\n",
       "    <tr>\n",
       "      <th>2</th>\n",
       "      <td>-0.491743</td>\n",
       "      <td>2.491806</td>\n",
       "    </tr>\n",
       "    <tr>\n",
       "      <th>3</th>\n",
       "      <td>-0.799074</td>\n",
       "      <td>3.059824</td>\n",
       "    </tr>\n",
       "    <tr>\n",
       "      <th>4</th>\n",
       "      <td>-1.095283</td>\n",
       "      <td>3.466695</td>\n",
       "    </tr>\n",
       "    <tr>\n",
       "      <th>5</th>\n",
       "      <td>-1.095238</td>\n",
       "      <td>3.375659</td>\n",
       "    </tr>\n",
       "    <tr>\n",
       "      <th>6</th>\n",
       "      <td>-1.048077</td>\n",
       "      <td>3.988089</td>\n",
       "    </tr>\n",
       "  </tbody>\n",
       "</table>\n",
       "</div>"
      ],
      "text/plain": [
       "       Mean    StdDev\n",
       "1 -1.063636  2.083078\n",
       "2 -0.491743  2.491806\n",
       "3 -0.799074  3.059824\n",
       "4 -1.095283  3.466695\n",
       "5 -1.095238  3.375659\n",
       "6 -1.048077  3.988089"
      ]
     },
     "execution_count": 36,
     "metadata": {},
     "output_type": "execute_result"
    }
   ],
   "source": [
    "# Mean and standard deviation of the variance\n",
    "\n",
    "var_results = pd.DataFrame(columns=(\"Mean\", \"StdDev\"))\n",
    "\n",
    "for i, d in enumerate([fcasts.Var_dm1, fcasts.Var_dm2, fcasts.Var_dm3, fcasts.Var_dm4, fcasts.Var_dm5, fcasts.Var_dm6]):\n",
    "    var_results.loc[i+1] = [d.mean(), d.std()]\n",
    "\n",
    "var_results"
   ]
  },
  {
   "cell_type": "code",
   "execution_count": 37,
   "metadata": {
    "collapsed": false
   },
   "outputs": [],
   "source": [
    "#All_results = dict()"
   ]
  },
  {
   "cell_type": "code",
   "execution_count": 38,
   "metadata": {
    "collapsed": false
   },
   "outputs": [
    {
     "ename": "NameError",
     "evalue": "name 'All_results' is not defined",
     "output_type": "error",
     "traceback": [
      "\u001b[0;31m---------------------------------------------------------------------------\u001b[0m",
      "\u001b[0;31mNameError\u001b[0m                                 Traceback (most recent call last)",
      "\u001b[0;32m<ipython-input-38-9bd0d4be50ae>\u001b[0m in \u001b[0;36m<module>\u001b[0;34m()\u001b[0m\n\u001b[0;32m----> 1\u001b[0;31m \u001b[0mAll_results\u001b[0m\u001b[0;34m[\u001b[0m\u001b[0mloc_code\u001b[0m\u001b[0;34m]\u001b[0m \u001b[0;34m=\u001b[0m \u001b[0mvar_results\u001b[0m\u001b[0;34m\u001b[0m\u001b[0m\n\u001b[0m",
      "\u001b[0;31mNameError\u001b[0m: name 'All_results' is not defined"
     ]
    }
   ],
   "source": [
    "All_results[loc_code] = var_results"
   ]
  },
  {
   "cell_type": "code",
   "execution_count": 39,
   "metadata": {
    "collapsed": false
   },
   "outputs": [
    {
     "ename": "NameError",
     "evalue": "name 'All_results' is not defined",
     "output_type": "error",
     "traceback": [
      "\u001b[0;31m---------------------------------------------------------------------------\u001b[0m",
      "\u001b[0;31mNameError\u001b[0m                                 Traceback (most recent call last)",
      "\u001b[0;32m<ipython-input-39-e7422bb9af3d>\u001b[0m in \u001b[0;36m<module>\u001b[0;34m()\u001b[0m\n\u001b[0;32m----> 1\u001b[0;31m \u001b[0mAll_results\u001b[0m\u001b[0;34m\u001b[0m\u001b[0m\n\u001b[0m",
      "\u001b[0;31mNameError\u001b[0m: name 'All_results' is not defined"
     ]
    }
   ],
   "source": [
    "All_results"
   ]
  },
  {
   "cell_type": "code",
   "execution_count": 821,
   "metadata": {
    "collapsed": false
   },
   "outputs": [
    {
     "data": {
      "text/plain": [
       "16"
      ]
     },
     "execution_count": 821,
     "metadata": {},
     "output_type": "execute_result"
    }
   ],
   "source": [
    "len(All_results)"
   ]
  },
  {
   "cell_type": "code",
   "execution_count": 754,
   "metadata": {
    "collapsed": false
   },
   "outputs": [
    {
     "data": {
      "text/html": [
       "<div>\n",
       "<table border=\"1\" class=\"dataframe\">\n",
       "  <thead>\n",
       "    <tr style=\"text-align: right;\">\n",
       "      <th></th>\n",
       "      <th>Mean</th>\n",
       "      <th>StdDev</th>\n",
       "    </tr>\n",
       "  </thead>\n",
       "  <tbody>\n",
       "    <tr>\n",
       "      <th>1</th>\n",
       "      <td>-0.401136</td>\n",
       "      <td>2.468118</td>\n",
       "    </tr>\n",
       "    <tr>\n",
       "      <th>2</th>\n",
       "      <td>-0.433333</td>\n",
       "      <td>2.628629</td>\n",
       "    </tr>\n",
       "    <tr>\n",
       "      <th>3</th>\n",
       "      <td>-0.640698</td>\n",
       "      <td>2.944801</td>\n",
       "    </tr>\n",
       "    <tr>\n",
       "      <th>4</th>\n",
       "      <td>-1.100000</td>\n",
       "      <td>3.440930</td>\n",
       "    </tr>\n",
       "    <tr>\n",
       "      <th>5</th>\n",
       "      <td>-0.944578</td>\n",
       "      <td>3.724450</td>\n",
       "    </tr>\n",
       "    <tr>\n",
       "      <th>6</th>\n",
       "      <td>-0.734146</td>\n",
       "      <td>4.068070</td>\n",
       "    </tr>\n",
       "  </tbody>\n",
       "</table>\n",
       "</div>"
      ],
      "text/plain": [
       "       Mean    StdDev\n",
       "1 -0.401136  2.468118\n",
       "2 -0.433333  2.628629\n",
       "3 -0.640698  2.944801\n",
       "4 -1.100000  3.440930\n",
       "5 -0.944578  3.724450\n",
       "6 -0.734146  4.068070"
      ]
     },
     "execution_count": 754,
     "metadata": {},
     "output_type": "execute_result"
    }
   ],
   "source": [
    "All_results['sk-32']"
   ]
  },
  {
   "cell_type": "code",
   "execution_count": null,
   "metadata": {
    "collapsed": true
   },
   "outputs": [],
   "source": []
  },
  {
   "cell_type": "code",
   "execution_count": null,
   "metadata": {
    "collapsed": true
   },
   "outputs": [],
   "source": []
  }
 ],
 "metadata": {
  "kernelspec": {
   "display_name": "Python 2",
   "language": "python",
   "name": "python2"
  },
  "language_info": {
   "codemirror_mode": {
    "name": "ipython",
    "version": 2
   },
   "file_extension": ".py",
   "mimetype": "text/x-python",
   "name": "python",
   "nbconvert_exporter": "python",
   "pygments_lexer": "ipython2",
   "version": "2.7.11"
  }
 },
 "nbformat": 4,
 "nbformat_minor": 0
}
